{
 "cells": [
  {
   "cell_type": "code",
   "execution_count": 1,
   "metadata": {},
   "outputs": [],
   "source": [
    "import datetime as dt\n",
    "import os\n",
    "import pandas as pd\n",
    "import tweepy as tw\n",
    "\n",
    "from tweepy.auth import OAuthHandler"
   ]
  },
  {
   "cell_type": "code",
   "execution_count": 2,
   "metadata": {},
   "outputs": [],
   "source": [
    "# developer permissions\n",
    "consumerKey = 'dP3z3TVOWjTL7Tmg01Nz7xOgh'\n",
    "consumerSecret = 'yx4qON88JsMFq7TWypX1M2B0cC3qcBT8VnVzQm9GUgIl82StXq'\n",
    "\n",
    "auth = OAuthHandler(consumerKey, consumerSecret)\n",
    "\n",
    "accessToken = '520724191-szKoJ6ldagLDbuRDBWVPUBFxDzu6LlhbdlK6JCuo'\n",
    "accessTokenSecret = 'dRceP3z8heTRVvnaTWI74NvE3wOXr3U0Q2mKeL06l7GRY'\n",
    "\n",
    "auth.set_access_token(accessToken, accessTokenSecret)\n",
    "api = tw.API(auth, wait_on_rate_limit=True, wait_on_rate_limit_notify=True)"
   ]
  },
  {
   "cell_type": "code",
   "execution_count": 3,
   "metadata": {},
   "outputs": [],
   "source": [
    "#empty lists to recieve json data\n",
    "name = []\n",
    "date = []\n",
    "text = []\n",
    "like_count = []\n",
    "rt_count = []\n",
    "\n",
    "\n",
    "#function to retrieve twitter data\n",
    "def retrieve_data(handle):\n",
    "    \n",
    "    \"\"\"calls twitter api and returns data and reformats from json into a pandas dataframe\"\"\"\n",
    "    \n",
    "    try:\n",
    "        for tweet in tw.Cursor(api.user_timeline,\n",
    "                               screen_name=handle, \n",
    "                               count=200,\n",
    "                               exclude_replies=True, \n",
    "                               include_rts=False,\n",
    "                               tweet_mode=\"extended\").items(1000):\n",
    "            \n",
    "            name.append(tweet.user.screen_name)\n",
    "            date.append(tweet.created_at)\n",
    "            text.append(tweet.full_text)\n",
    "            like_count.append(tweet.favorite_count)\n",
    "            rt_count.append(tweet.retweet_count)\n",
    "            \n",
    "            df = pd.DataFrame()\n",
    "\n",
    "            df['name'] = name\n",
    "            df['date'] = date\n",
    "            df['text'] = text\n",
    "            df['like_count'] = like_count\n",
    "            df['rt_count'] = rt_count\n",
    "\n",
    "    except:\n",
    "        pass\n",
    "    return df"
   ]
  },
  {
   "cell_type": "code",
   "execution_count": 4,
   "metadata": {},
   "outputs": [],
   "source": [
    "#join each individual dataframe into one combined df\n",
    "df = pd.DataFrame()\n",
    "\n",
    "handles = ['@JoeBiden', '@ewarren', '@BernieSanders', \n",
    "           '@MikeBloomberg', '@PeteButtigieg', '@AmyKlobuchar',\n",
    "          '@realDonaldTrump']\n",
    "\n",
    "for handle in handles:\n",
    "    df_new = retrieve_data(handle)\n",
    "    df = pd.concat((df, df_new))"
   ]
  },
  {
   "cell_type": "code",
   "execution_count": 5,
   "metadata": {},
   "outputs": [
    {
     "data": {
      "text/plain": [
       "name\n",
       "BernieSanders      1000\n",
       "JoeBiden           1000\n",
       "MikeBloomberg      1000\n",
       "PeteButtigieg      1000\n",
       "amyklobuchar       1000\n",
       "ewarren            1000\n",
       "realDonaldTrump    1000\n",
       "Name: date, dtype: int64"
      ]
     },
     "execution_count": 5,
     "metadata": {},
     "output_type": "execute_result"
    }
   ],
   "source": [
    "# preliminary data cleaning\n",
    "df.drop_duplicates(keep='first', inplace=True)\n",
    "\n",
    "df.groupby(['name'])['date'].count()"
   ]
  },
  {
   "cell_type": "code",
   "execution_count": 6,
   "metadata": {},
   "outputs": [],
   "source": [
    "#df.to_csv('candidates_tweets.csv')"
   ]
  }
 ],
 "metadata": {
  "kernelspec": {
   "display_name": "Python 3",
   "language": "python",
   "name": "python3"
  },
  "language_info": {
   "codemirror_mode": {
    "name": "ipython",
    "version": 3
   },
   "file_extension": ".py",
   "mimetype": "text/x-python",
   "name": "python",
   "nbconvert_exporter": "python",
   "pygments_lexer": "ipython3",
   "version": "3.7.3"
  }
 },
 "nbformat": 4,
 "nbformat_minor": 2
}
